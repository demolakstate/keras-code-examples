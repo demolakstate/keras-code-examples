{
  "cells": [
    {
      "cell_type": "markdown",
      "metadata": {
        "id": "view-in-github",
        "colab_type": "text"
      },
      "source": [
        "<a href=\"https://colab.research.google.com/github/demolakstate/keras-code-examples/blob/main/autoencoder_modified.ipynb\" target=\"_parent\"><img src=\"https://colab.research.google.com/assets/colab-badge.svg\" alt=\"Open In Colab\"/></a>"
      ]
    },
    {
      "cell_type": "markdown",
      "metadata": {
        "id": "ThnnPbalbrPC"
      },
      "source": [
        "# Convolutional autoencoder for image denoising\n",
        "**Author:** [Ademola Okerinde](https://twitter.com/ademolaokerinde)<br>\n",
        "**Original Author:** [Santiago L. Valdarrama](https://twitter.com/svpino)<br>\n",
        "**Date created:** 2022/04/17<br>\n",
        "**Last modified:** 2022/04/17<br>\n",
        "**Description:** How to train a deep convolutional autoencoder for image denoising."
      ]
    },
    {
      "cell_type": "markdown",
      "metadata": {
        "id": "uIhiXVv2brPG"
      },
      "source": [
        "## Introduction\n",
        "\n",
        "This example demonstrates how to implement a deep convolutional autoencoder\n",
        "for image denoising, mapping noisy digits images from the MNIST dataset to\n",
        "clean digits images. This implementation is based on an original blog post\n",
        "titled [Building Autoencoders in Keras](https://blog.keras.io/building-autoencoders-in-keras.html)\n",
        "by [François Chollet](https://twitter.com/fchollet)."
      ]
    },
    {
      "cell_type": "markdown",
      "metadata": {
        "id": "WQsPJJlAbrPH"
      },
      "source": [
        "## Setup"
      ]
    },
    {
      "cell_type": "code",
      "source": [
        "# Necessary imports\n",
        "\n",
        "import numpy as np\n",
        "import tensorflow as tf\n",
        "import matplotlib.pyplot as plt\n",
        "\n",
        "from tensorflow.keras import layers\n",
        "from tensorflow.keras.datasets import mnist\n",
        "from tensorflow.keras.models import Model"
      ],
      "metadata": {
        "id": "uGIF06ZGdNUF"
      },
      "execution_count": 1,
      "outputs": []
    },
    {
      "cell_type": "code",
      "source": [
        "def preprocess(array):\n",
        "    \"\"\"\n",
        "    Normalizes the supplied array and reshapes it into the appropriate format.\n",
        "    \"\"\"\n",
        "\n",
        "    array = array.astype(\"float32\") / 255.0\n",
        "    array = np.reshape(array, (len(array), 28, 28, 1))\n",
        "    return array"
      ],
      "metadata": {
        "id": "VekhY2ibdby1"
      },
      "execution_count": 2,
      "outputs": []
    },
    {
      "cell_type": "code",
      "source": [
        ""
      ],
      "metadata": {
        "id": "0JSCGzdreeib"
      },
      "execution_count": 31,
      "outputs": []
    },
    {
      "cell_type": "code",
      "source": [
        "def noise(array):\n",
        "    \"\"\"\n",
        "    Adds random noise to each image in the supplied array.\n",
        "    \"\"\"\n",
        "\n",
        "    print('numpy array dimension', array.ndim)\n",
        "    print('shape of array: ', array.shape)\n",
        "\n",
        "\n",
        "    noise_factor = 0.0#0.4\n",
        "    noisy_array = array + noise_factor * np.random.normal(\n",
        "        loc=0.0, scale=1.0, size=array.shape\n",
        "    )\n",
        "\n",
        "    noisy_array[:, 15:, 15:, :] = 0.0\n",
        "    \n",
        "\n",
        "    return np.clip(noisy_array, 0.0, 1.0)\n",
        "    "
      ],
      "metadata": {
        "id": "skC6u_m3dfN8"
      },
      "execution_count": 32,
      "outputs": []
    },
    {
      "cell_type": "code",
      "source": [
        ""
      ],
      "metadata": {
        "id": "c0zk9-m4ujtj"
      },
      "execution_count": 32,
      "outputs": []
    },
    {
      "cell_type": "code",
      "source": [
        "def crop(array):\n",
        "    \"\"\"\n",
        "    Adds random crop to each image in the supplied array.\n",
        "    \"\"\"\n",
        "\n",
        "    array[array < 0.9] = 0.0\n",
        "    #cropped_array = array\n",
        "\n",
        "    return np.clip(array, 0.0, 1.0)"
      ],
      "metadata": {
        "id": "d64_Wr37jSGy"
      },
      "execution_count": 33,
      "outputs": []
    },
    {
      "cell_type": "code",
      "source": [
        ""
      ],
      "metadata": {
        "id": "djB3cZYAnCtS"
      },
      "execution_count": 33,
      "outputs": []
    },
    {
      "cell_type": "code",
      "source": [
        ""
      ],
      "metadata": {
        "id": "DrZfd7xwnCxp"
      },
      "execution_count": 33,
      "outputs": []
    },
    {
      "cell_type": "code",
      "execution_count": 34,
      "metadata": {
        "id": "PFq35NIBbrPH"
      },
      "outputs": [],
      "source": [
        "\n",
        "def display(array1, array2):\n",
        "    \"\"\"\n",
        "    Displays ten random images from each one of the supplied arrays.\n",
        "    \"\"\"\n",
        "\n",
        "    n = 10\n",
        "\n",
        "    indices = np.random.randint(len(array1), size=n)\n",
        "    images1 = array1[indices, :]\n",
        "    images2 = array2[indices, :]\n",
        "\n",
        "    plt.figure(figsize=(20, 4))\n",
        "    for i, (image1, image2) in enumerate(zip(images1, images2)):\n",
        "        ax = plt.subplot(2, n, i + 1)\n",
        "        plt.imshow(image1.reshape(28, 28))\n",
        "        plt.gray()\n",
        "        ax.get_xaxis().set_visible(False)\n",
        "        ax.get_yaxis().set_visible(False)\n",
        "\n",
        "        ax = plt.subplot(2, n, i + 1 + n)\n",
        "        plt.imshow(image2.reshape(28, 28))\n",
        "        plt.gray()\n",
        "        ax.get_xaxis().set_visible(False)\n",
        "        ax.get_yaxis().set_visible(False)\n",
        "\n",
        "    plt.show()\n"
      ]
    },
    {
      "cell_type": "markdown",
      "metadata": {
        "id": "gCDPyxUPbrPJ"
      },
      "source": [
        "## Prepare the data"
      ]
    },
    {
      "cell_type": "code",
      "execution_count": 35,
      "metadata": {
        "id": "RWliRCXabrPJ",
        "colab": {
          "base_uri": "https://localhost:8080/",
          "height": 317
        },
        "outputId": "a01c0e23-a27e-4bfc-8c8d-903b83efa275"
      },
      "outputs": [
        {
          "output_type": "stream",
          "name": "stdout",
          "text": [
            "numpy array dimension 4\n",
            "shape of array:  (60000, 28, 28, 1)\n",
            "numpy array dimension 4\n",
            "shape of array:  (10000, 28, 28, 1)\n"
          ]
        },
        {
          "output_type": "display_data",
          "data": {
            "text/plain": [
              "<Figure size 1440x288 with 20 Axes>"
            ],
            "image/png": "[encoded data removed]"
          },
          "metadata": {
            "needs_background": "light"
          }
        }
      ],
      "source": [
        "# Since we only need images from the dataset to encode and decode, we\n",
        "# won't use the labels.\n",
        "(train_data, _), (test_data, _) = mnist.load_data()\n",
        "\n",
        "# Normalize and reshape the data\n",
        "train_data = preprocess(train_data)\n",
        "test_data = preprocess(test_data)\n",
        "\n",
        "# Create a copy of the data with added noise\n",
        "noisy_train_data = noise(train_data)\n",
        "noisy_test_data = noise(test_data)\n",
        "\n",
        "# noisy_train_data = crop(train_data)\n",
        "# noisy_test_data = crop(test_data)\n",
        "\n",
        "# Display the train data and a version of it with added noise\n",
        "display(train_data, noisy_train_data)"
      ]
    },
    {
      "cell_type": "code",
      "source": [
        ""
      ],
      "metadata": {
        "id": "ru8Ot-HtiwO0"
      },
      "execution_count": 36,
      "outputs": []
    },
    {
      "cell_type": "code",
      "source": [
        ""
      ],
      "metadata": {
        "id": "-9gNj-WgiwXo"
      },
      "execution_count": 36,
      "outputs": []
    },
    {
      "cell_type": "code",
      "source": [
        ""
      ],
      "metadata": {
        "id": "_ir6Oe1GiwcL"
      },
      "execution_count": 36,
      "outputs": []
    },
    {
      "cell_type": "markdown",
      "metadata": {
        "id": "6uBzZK0kbrPK"
      },
      "source": [
        "## Build the autoencoder\n",
        "\n",
        "We are going to use the Functional API to build our convolutional autoencoder."
      ]
    },
    {
      "cell_type": "code",
      "execution_count": 37,
      "metadata": {
        "id": "BgOHT1ndbrPL",
        "colab": {
          "base_uri": "https://localhost:8080/"
        },
        "outputId": "a1ac3d8a-b115-4648-ab79-e473e25244c9"
      },
      "outputs": [
        {
          "output_type": "stream",
          "name": "stdout",
          "text": [
            "Model: \"model\"\n",
            "_________________________________________________________________\n",
            " Layer (type)                Output Shape              Param #   \n",
            "=================================================================\n",
            " input_1 (InputLayer)        [(None, 28, 28, 1)]       0         \n",
            "                                                                 \n",
            " conv2d (Conv2D)             (None, 28, 28, 32)        320       \n",
            "                                                                 \n",
            " max_pooling2d (MaxPooling2D  (None, 14, 14, 32)       0         \n",
            " )                                                               \n",
            "                                                                 \n",
            " conv2d_1 (Conv2D)           (None, 14, 14, 32)        9248      \n",
            "                                                                 \n",
            " max_pooling2d_1 (MaxPooling  (None, 7, 7, 32)         0         \n",
            " 2D)                                                             \n",
            "                                                                 \n",
            " conv2d_transpose (Conv2DTra  (None, 14, 14, 32)       9248      \n",
            " nspose)                                                         \n",
            "                                                                 \n",
            " conv2d_transpose_1 (Conv2DT  (None, 28, 28, 32)       9248      \n",
            " ranspose)                                                       \n",
            "                                                                 \n",
            " conv2d_2 (Conv2D)           (None, 28, 28, 1)         289       \n",
            "                                                                 \n",
            "=================================================================\n",
            "Total params: 28,353\n",
            "Trainable params: 28,353\n",
            "Non-trainable params: 0\n",
            "_________________________________________________________________\n"
          ]
        }
      ],
      "source": [
        "input = layers.Input(shape=(28, 28, 1))\n",
        "\n",
        "# Encoder\n",
        "x = layers.Conv2D(32, (3, 3), activation=\"relu\", padding=\"same\")(input)\n",
        "x = layers.MaxPooling2D((2, 2), padding=\"same\")(x)\n",
        "x = layers.Conv2D(32, (3, 3), activation=\"relu\", padding=\"same\")(x)\n",
        "x = layers.MaxPooling2D((2, 2), padding=\"same\")(x)\n",
        "\n",
        "# Decoder\n",
        "x = layers.Conv2DTranspose(32, (3, 3), strides=2, activation=\"relu\", padding=\"same\")(x)\n",
        "x = layers.Conv2DTranspose(32, (3, 3), strides=2, activation=\"relu\", padding=\"same\")(x)\n",
        "x = layers.Conv2D(1, (3, 3), activation=\"sigmoid\", padding=\"same\")(x)\n",
        "\n",
        "# Autoencoder\n",
        "autoencoder = Model(input, x)\n",
        "autoencoder.compile(optimizer=\"adam\", loss=\"binary_crossentropy\")\n",
        "autoencoder.summary()"
      ]
    },
    {
      "cell_type": "markdown",
      "metadata": {
        "id": "3cLw6o9cbrPL"
      },
      "source": [
        "Now we can train our autoencoder using `train_data` as both our input data\n",
        "and target. Notice we are setting up the validation data using the same\n",
        "format."
      ]
    },
    {
      "cell_type": "code",
      "execution_count": 38,
      "metadata": {
        "id": "rLlvBl_hbrPM",
        "colab": {
          "base_uri": "https://localhost:8080/"
        },
        "outputId": "ff94c35b-f442-4645-86e0-a8e4155cc792"
      },
      "outputs": [
        {
          "output_type": "stream",
          "name": "stdout",
          "text": [
            "Epoch 1/50\n",
            "469/469 [==============================] - 21s 23ms/step - loss: 0.1364 - val_loss: 0.0732\n",
            "Epoch 2/50\n",
            "469/469 [==============================] - 9s 20ms/step - loss: 0.0717 - val_loss: 0.0696\n",
            "Epoch 3/50\n",
            "469/469 [==============================] - 10s 22ms/step - loss: 0.0692 - val_loss: 0.0682\n",
            "Epoch 4/50\n",
            "469/469 [==============================] - 9s 20ms/step - loss: 0.0680 - val_loss: 0.0671\n",
            "Epoch 5/50\n",
            "469/469 [==============================] - 10s 20ms/step - loss: 0.0672 - val_loss: 0.0665\n",
            "Epoch 6/50\n",
            "469/469 [==============================] - 9s 20ms/step - loss: 0.0667 - val_loss: 0.0660\n",
            "Epoch 7/50\n",
            "469/469 [==============================] - 10s 20ms/step - loss: 0.0662 - val_loss: 0.0656\n",
            "Epoch 8/50\n",
            "469/469 [==============================] - 10s 22ms/step - loss: 0.0659 - val_loss: 0.0652\n",
            "Epoch 9/50\n",
            "469/469 [==============================] - 10s 22ms/step - loss: 0.0656 - val_loss: 0.0650\n",
            "Epoch 10/50\n",
            "469/469 [==============================] - 10s 20ms/step - loss: 0.0653 - val_loss: 0.0647\n",
            "Epoch 11/50\n",
            "469/469 [==============================] - 9s 20ms/step - loss: 0.0650 - val_loss: 0.0645\n",
            "Epoch 12/50\n",
            "469/469 [==============================] - 9s 20ms/step - loss: 0.0648 - val_loss: 0.0644\n",
            "Epoch 13/50\n",
            "469/469 [==============================] - 10s 22ms/step - loss: 0.0646 - val_loss: 0.0642\n",
            "Epoch 14/50\n",
            "469/469 [==============================] - 10s 20ms/step - loss: 0.0645 - val_loss: 0.0641\n",
            "Epoch 15/50\n",
            "469/469 [==============================] - 10s 22ms/step - loss: 0.0643 - val_loss: 0.0638\n",
            "Epoch 16/50\n",
            "469/469 [==============================] - 10s 22ms/step - loss: 0.0642 - val_loss: 0.0638\n",
            "Epoch 17/50\n",
            "469/469 [==============================] - 10s 22ms/step - loss: 0.0641 - val_loss: 0.0636\n",
            "Epoch 18/50\n",
            "469/469 [==============================] - 10s 22ms/step - loss: 0.0640 - val_loss: 0.0636\n",
            "Epoch 19/50\n",
            "469/469 [==============================] - 10s 22ms/step - loss: 0.0639 - val_loss: 0.0635\n",
            "Epoch 20/50\n",
            "469/469 [==============================] - 10s 20ms/step - loss: 0.0638 - val_loss: 0.0633\n",
            "Epoch 21/50\n",
            "469/469 [==============================] - 10s 22ms/step - loss: 0.0637 - val_loss: 0.0632\n",
            "Epoch 22/50\n",
            "469/469 [==============================] - 10s 22ms/step - loss: 0.0636 - val_loss: 0.0632\n",
            "Epoch 23/50\n",
            "469/469 [==============================] - 10s 22ms/step - loss: 0.0635 - val_loss: 0.0631\n",
            "Epoch 24/50\n",
            "469/469 [==============================] - 9s 20ms/step - loss: 0.0635 - val_loss: 0.0631\n",
            "Epoch 25/50\n",
            "469/469 [==============================] - 10s 20ms/step - loss: 0.0634 - val_loss: 0.0630\n",
            "Epoch 26/50\n",
            "469/469 [==============================] - 10s 20ms/step - loss: 0.0633 - val_loss: 0.0629\n",
            "Epoch 27/50\n",
            "469/469 [==============================] - 10s 22ms/step - loss: 0.0633 - val_loss: 0.0630\n",
            "Epoch 28/50\n",
            "469/469 [==============================] - 10s 22ms/step - loss: 0.0632 - val_loss: 0.0628\n",
            "Epoch 29/50\n",
            "469/469 [==============================] - 10s 20ms/step - loss: 0.0632 - val_loss: 0.0628\n",
            "Epoch 30/50\n",
            "469/469 [==============================] - 10s 22ms/step - loss: 0.0631 - val_loss: 0.0627\n",
            "Epoch 31/50\n",
            "469/469 [==============================] - 10s 21ms/step - loss: 0.0631 - val_loss: 0.0628\n",
            "Epoch 32/50\n",
            "469/469 [==============================] - 10s 22ms/step - loss: 0.0631 - val_loss: 0.0627\n",
            "Epoch 33/50\n",
            "469/469 [==============================] - 10s 20ms/step - loss: 0.0630 - val_loss: 0.0627\n",
            "Epoch 34/50\n",
            "469/469 [==============================] - 10s 22ms/step - loss: 0.0630 - val_loss: 0.0626\n",
            "Epoch 35/50\n",
            "469/469 [==============================] - 10s 22ms/step - loss: 0.0629 - val_loss: 0.0626\n",
            "Epoch 36/50\n",
            "469/469 [==============================] - 10s 20ms/step - loss: 0.0629 - val_loss: 0.0627\n",
            "Epoch 37/50\n",
            "469/469 [==============================] - 10s 22ms/step - loss: 0.0629 - val_loss: 0.0625\n",
            "Epoch 38/50\n",
            "469/469 [==============================] - 10s 20ms/step - loss: 0.0629 - val_loss: 0.0625\n",
            "Epoch 39/50\n",
            "469/469 [==============================] - 10s 22ms/step - loss: 0.0628 - val_loss: 0.0625\n",
            "Epoch 40/50\n",
            "469/469 [==============================] - 10s 20ms/step - loss: 0.0628 - val_loss: 0.0625\n",
            "Epoch 41/50\n",
            "469/469 [==============================] - 10s 20ms/step - loss: 0.0628 - val_loss: 0.0624\n",
            "Epoch 42/50\n",
            "469/469 [==============================] - 10s 22ms/step - loss: 0.0627 - val_loss: 0.0624\n",
            "Epoch 43/50\n",
            "469/469 [==============================] - 10s 20ms/step - loss: 0.0627 - val_loss: 0.0623\n",
            "Epoch 44/50\n",
            "469/469 [==============================] - 10s 20ms/step - loss: 0.0627 - val_loss: 0.0623\n",
            "Epoch 45/50\n",
            "469/469 [==============================] - 10s 20ms/step - loss: 0.0627 - val_loss: 0.0623\n",
            "Epoch 46/50\n",
            "469/469 [==============================] - 10s 22ms/step - loss: 0.0627 - val_loss: 0.0623\n",
            "Epoch 47/50\n",
            "469/469 [==============================] - 10s 22ms/step - loss: 0.0626 - val_loss: 0.0623\n",
            "Epoch 48/50\n",
            "469/469 [==============================] - 10s 22ms/step - loss: 0.0626 - val_loss: 0.0623\n",
            "Epoch 49/50\n",
            "469/469 [==============================] - 10s 22ms/step - loss: 0.0626 - val_loss: 0.0622\n",
            "Epoch 50/50\n",
            "469/469 [==============================] - 10s 20ms/step - loss: 0.0626 - val_loss: 0.0623\n"
          ]
        },
        {
          "output_type": "execute_result",
          "data": {
            "text/plain": [
              "<keras.callbacks.History at 0x7f1b86646610>"
            ]
          },
          "metadata": {},
          "execution_count": 38
        }
      ],
      "source": [
        "autoencoder.fit(\n",
        "    x=train_data,\n",
        "    y=train_data,\n",
        "    epochs=50,\n",
        "    batch_size=128,\n",
        "    shuffle=True,\n",
        "    validation_data=(test_data, test_data),\n",
        ")"
      ]
    },
    {
      "cell_type": "markdown",
      "metadata": {
        "id": "sYM5aPyfbrPM"
      },
      "source": [
        "Let's predict on our test dataset and display the original image together with\n",
        "the prediction from our autoencoder.\n",
        "\n",
        "Notice how the predictions are pretty close to the original images, although\n",
        "not quite the same."
      ]
    },
    {
      "cell_type": "code",
      "execution_count": 39,
      "metadata": {
        "id": "IVtp8mYobrPN",
        "colab": {
          "base_uri": "https://localhost:8080/",
          "height": 248
        },
        "outputId": "8b4c855b-0f85-447f-e109-3b9a61fb9f0b"
      },
      "outputs": [
        {
          "output_type": "display_data",
          "data": {
            "text/plain": [
              "<Figure size 1440x288 with 20 Axes>"
            ],
            "image/png": "[encoded data removed]"
          },
          "metadata": {
            "needs_background": "light"
          }
        }
      ],
      "source": [
        "predictions = autoencoder.predict(test_data)\n",
        "display(test_data, predictions)"
      ]
    },
    {
      "cell_type": "markdown",
      "metadata": {
        "id": "igLiJH5xbrPN"
      },
      "source": [
        "Now that we know that our autoencoder works, let's retrain it using the noisy\n",
        "data as our input and the clean data as our target. We want our autoencoder to\n",
        "learn how to denoise the images."
      ]
    },
    {
      "cell_type": "code",
      "execution_count": 40,
      "metadata": {
        "id": "AyoBa3ozbrPN",
        "colab": {
          "base_uri": "https://localhost:8080/"
        },
        "outputId": "b474bd65-a9de-43e5-9ffe-7851edb55680"
      },
      "outputs": [
        {
          "output_type": "stream",
          "name": "stdout",
          "text": [
            "Epoch 1/100\n",
            "469/469 [==============================] - 10s 21ms/step - loss: 0.1022 - val_loss: 0.0916\n",
            "Epoch 2/100\n",
            "469/469 [==============================] - 10s 20ms/step - loss: 0.0903 - val_loss: 0.0878\n",
            "Epoch 3/100\n",
            "469/469 [==============================] - 10s 22ms/step - loss: 0.0880 - val_loss: 0.0867\n",
            "Epoch 4/100\n",
            "469/469 [==============================] - 9s 20ms/step - loss: 0.0869 - val_loss: 0.0856\n",
            "Epoch 5/100\n",
            "469/469 [==============================] - 10s 22ms/step - loss: 0.0861 - val_loss: 0.0849\n",
            "Epoch 6/100\n",
            "469/469 [==============================] - 9s 20ms/step - loss: 0.0856 - val_loss: 0.0844\n",
            "Epoch 7/100\n",
            "469/469 [==============================] - 10s 20ms/step - loss: 0.0850 - val_loss: 0.0840\n",
            "Epoch 8/100\n",
            "469/469 [==============================] - 10s 22ms/step - loss: 0.0846 - val_loss: 0.0835\n",
            "Epoch 9/100\n",
            "469/469 [==============================] - 10s 20ms/step - loss: 0.0842 - val_loss: 0.0831\n",
            "Epoch 10/100\n",
            "469/469 [==============================] - 10s 20ms/step - loss: 0.0840 - val_loss: 0.0831\n",
            "Epoch 11/100\n",
            "469/469 [==============================] - 10s 20ms/step - loss: 0.0836 - val_loss: 0.0825\n",
            "Epoch 12/100\n",
            "469/469 [==============================] - 10s 22ms/step - loss: 0.0834 - val_loss: 0.0824\n",
            "Epoch 13/100\n",
            "469/469 [==============================] - 10s 22ms/step - loss: 0.0832 - val_loss: 0.0822\n",
            "Epoch 14/100\n",
            "469/469 [==============================] - 10s 20ms/step - loss: 0.0830 - val_loss: 0.0821\n",
            "Epoch 15/100\n",
            "469/469 [==============================] - 10s 20ms/step - loss: 0.0828 - val_loss: 0.0821\n",
            "Epoch 16/100\n",
            "469/469 [==============================] - 10s 22ms/step - loss: 0.0826 - val_loss: 0.0820\n",
            "Epoch 17/100\n",
            "469/469 [==============================] - 10s 20ms/step - loss: 0.0825 - val_loss: 0.0816\n",
            "Epoch 18/100\n",
            "469/469 [==============================] - 10s 20ms/step - loss: 0.0824 - val_loss: 0.0813\n",
            "Epoch 19/100\n",
            "469/469 [==============================] - 9s 20ms/step - loss: 0.0822 - val_loss: 0.0813\n",
            "Epoch 20/100\n",
            "469/469 [==============================] - 10s 22ms/step - loss: 0.0820 - val_loss: 0.0812\n",
            "Epoch 21/100\n",
            "469/469 [==============================] - 10s 22ms/step - loss: 0.0819 - val_loss: 0.0809\n",
            "Epoch 22/100\n",
            "469/469 [==============================] - 10s 22ms/step - loss: 0.0818 - val_loss: 0.0819\n",
            "Epoch 23/100\n",
            "469/469 [==============================] - 10s 22ms/step - loss: 0.0818 - val_loss: 0.0812\n",
            "Epoch 24/100\n",
            "469/469 [==============================] - 10s 20ms/step - loss: 0.0817 - val_loss: 0.0814\n",
            "Epoch 25/100\n",
            "469/469 [==============================] - 10s 22ms/step - loss: 0.0816 - val_loss: 0.0808\n",
            "Epoch 26/100\n",
            "469/469 [==============================] - 10s 20ms/step - loss: 0.0815 - val_loss: 0.0805\n",
            "Epoch 27/100\n",
            "469/469 [==============================] - 10s 22ms/step - loss: 0.0813 - val_loss: 0.0807\n",
            "Epoch 28/100\n",
            "469/469 [==============================] - 10s 20ms/step - loss: 0.0812 - val_loss: 0.0804\n",
            "Epoch 29/100\n",
            "469/469 [==============================] - 10s 22ms/step - loss: 0.0813 - val_loss: 0.0810\n",
            "Epoch 30/100\n",
            "469/469 [==============================] - 10s 22ms/step - loss: 0.0812 - val_loss: 0.0803\n",
            "Epoch 31/100\n",
            "469/469 [==============================] - 10s 20ms/step - loss: 0.0810 - val_loss: 0.0802\n",
            "Epoch 32/100\n",
            "469/469 [==============================] - 9s 20ms/step - loss: 0.0810 - val_loss: 0.0808\n",
            "Epoch 33/100\n",
            "469/469 [==============================] - 10s 22ms/step - loss: 0.0809 - val_loss: 0.0806\n",
            "Epoch 34/100\n",
            "469/469 [==============================] - 10s 22ms/step - loss: 0.0809 - val_loss: 0.0804\n",
            "Epoch 35/100\n",
            "469/469 [==============================] - 10s 20ms/step - loss: 0.0808 - val_loss: 0.0803\n",
            "Epoch 36/100\n",
            "469/469 [==============================] - 10s 22ms/step - loss: 0.0807 - val_loss: 0.0807\n",
            "Epoch 37/100\n",
            "469/469 [==============================] - 9s 20ms/step - loss: 0.0807 - val_loss: 0.0803\n",
            "Epoch 38/100\n",
            "469/469 [==============================] - 10s 20ms/step - loss: 0.0806 - val_loss: 0.0805\n",
            "Epoch 39/100\n",
            "469/469 [==============================] - 10s 22ms/step - loss: 0.0806 - val_loss: 0.0802\n",
            "Epoch 40/100\n",
            "469/469 [==============================] - 10s 22ms/step - loss: 0.0806 - val_loss: 0.0802\n",
            "Epoch 41/100\n",
            "469/469 [==============================] - 10s 20ms/step - loss: 0.0806 - val_loss: 0.0829\n",
            "Epoch 42/100\n",
            "469/469 [==============================] - 10s 22ms/step - loss: 0.0804 - val_loss: 0.0797\n",
            "Epoch 43/100\n",
            "469/469 [==============================] - 10s 20ms/step - loss: 0.0804 - val_loss: 0.0797\n",
            "Epoch 44/100\n",
            "469/469 [==============================] - 10s 22ms/step - loss: 0.0804 - val_loss: 0.0797\n",
            "Epoch 45/100\n",
            "469/469 [==============================] - 10s 20ms/step - loss: 0.0803 - val_loss: 0.0799\n",
            "Epoch 46/100\n",
            "469/469 [==============================] - 10s 20ms/step - loss: 0.0803 - val_loss: 0.0796\n",
            "Epoch 47/100\n",
            "469/469 [==============================] - 10s 22ms/step - loss: 0.0804 - val_loss: 0.0796\n",
            "Epoch 48/100\n",
            "469/469 [==============================] - 10s 22ms/step - loss: 0.0803 - val_loss: 0.0797\n",
            "Epoch 49/100\n",
            "469/469 [==============================] - 10s 20ms/step - loss: 0.0802 - val_loss: 0.0794\n",
            "Epoch 50/100\n",
            "469/469 [==============================] - 10s 22ms/step - loss: 0.0801 - val_loss: 0.0796\n",
            "Epoch 51/100\n",
            "469/469 [==============================] - 10s 20ms/step - loss: 0.0802 - val_loss: 0.0794\n",
            "Epoch 52/100\n",
            "469/469 [==============================] - 10s 22ms/step - loss: 0.0801 - val_loss: 0.0793\n",
            "Epoch 53/100\n",
            "469/469 [==============================] - 10s 22ms/step - loss: 0.0801 - val_loss: 0.0802\n",
            "Epoch 54/100\n",
            "469/469 [==============================] - 10s 22ms/step - loss: 0.0800 - val_loss: 0.0794\n",
            "Epoch 55/100\n",
            "469/469 [==============================] - 10s 20ms/step - loss: 0.0800 - val_loss: 0.0794\n",
            "Epoch 56/100\n",
            "469/469 [==============================] - 10s 20ms/step - loss: 0.0799 - val_loss: 0.0799\n",
            "Epoch 57/100\n",
            "469/469 [==============================] - 10s 21ms/step - loss: 0.0799 - val_loss: 0.0795\n",
            "Epoch 58/100\n",
            "469/469 [==============================] - 10s 20ms/step - loss: 0.0799 - val_loss: 0.0792\n",
            "Epoch 59/100\n",
            "469/469 [==============================] - 10s 22ms/step - loss: 0.0799 - val_loss: 0.0791\n",
            "Epoch 60/100\n",
            "469/469 [==============================] - 10s 22ms/step - loss: 0.0798 - val_loss: 0.0792\n",
            "Epoch 61/100\n",
            "469/469 [==============================] - 10s 22ms/step - loss: 0.0797 - val_loss: 0.0790\n",
            "Epoch 62/100\n",
            "469/469 [==============================] - 10s 22ms/step - loss: 0.0797 - val_loss: 0.0791\n",
            "Epoch 63/100\n",
            "469/469 [==============================] - 10s 22ms/step - loss: 0.0797 - val_loss: 0.0791\n",
            "Epoch 64/100\n",
            "469/469 [==============================] - 10s 22ms/step - loss: 0.0796 - val_loss: 0.0789\n",
            "Epoch 65/100\n",
            "469/469 [==============================] - 10s 22ms/step - loss: 0.0797 - val_loss: 0.0789\n",
            "Epoch 66/100\n",
            "469/469 [==============================] - 10s 22ms/step - loss: 0.0797 - val_loss: 0.0792\n",
            "Epoch 67/100\n",
            "469/469 [==============================] - 10s 22ms/step - loss: 0.0796 - val_loss: 0.0791\n",
            "Epoch 68/100\n",
            "469/469 [==============================] - 10s 22ms/step - loss: 0.0796 - val_loss: 0.0800\n",
            "Epoch 69/100\n",
            "469/469 [==============================] - 10s 20ms/step - loss: 0.0795 - val_loss: 0.0793\n",
            "Epoch 70/100\n",
            "469/469 [==============================] - 10s 22ms/step - loss: 0.0796 - val_loss: 0.0788\n",
            "Epoch 71/100\n",
            "469/469 [==============================] - 10s 20ms/step - loss: 0.0794 - val_loss: 0.0787\n",
            "Epoch 72/100\n",
            "469/469 [==============================] - 10s 20ms/step - loss: 0.0795 - val_loss: 0.0793\n",
            "Epoch 73/100\n",
            "469/469 [==============================] - 10s 22ms/step - loss: 0.0794 - val_loss: 0.0792\n",
            "Epoch 74/100\n",
            "469/469 [==============================] - 10s 22ms/step - loss: 0.0794 - val_loss: 0.0787\n",
            "Epoch 75/100\n",
            "469/469 [==============================] - 10s 20ms/step - loss: 0.0794 - val_loss: 0.0790\n",
            "Epoch 76/100\n",
            "469/469 [==============================] - 10s 20ms/step - loss: 0.0794 - val_loss: 0.0791\n",
            "Epoch 77/100\n",
            "469/469 [==============================] - 10s 22ms/step - loss: 0.0793 - val_loss: 0.0788\n",
            "Epoch 78/100\n",
            "469/469 [==============================] - 10s 20ms/step - loss: 0.0793 - val_loss: 0.0785\n",
            "Epoch 79/100\n",
            "469/469 [==============================] - 10s 22ms/step - loss: 0.0793 - val_loss: 0.0790\n",
            "Epoch 80/100\n",
            "469/469 [==============================] - 10s 20ms/step - loss: 0.0793 - val_loss: 0.0788\n",
            "Epoch 81/100\n",
            "469/469 [==============================] - 10s 20ms/step - loss: 0.0792 - val_loss: 0.0789\n",
            "Epoch 82/100\n",
            "469/469 [==============================] - 10s 21ms/step - loss: 0.0793 - val_loss: 0.0786\n",
            "Epoch 83/100\n",
            "469/469 [==============================] - 10s 20ms/step - loss: 0.0792 - val_loss: 0.0786\n",
            "Epoch 84/100\n",
            "469/469 [==============================] - 10s 20ms/step - loss: 0.0792 - val_loss: 0.0787\n",
            "Epoch 85/100\n",
            "469/469 [==============================] - 10s 20ms/step - loss: 0.0792 - val_loss: 0.0789\n",
            "Epoch 86/100\n",
            "469/469 [==============================] - 10s 22ms/step - loss: 0.0792 - val_loss: 0.0791\n",
            "Epoch 87/100\n",
            "469/469 [==============================] - 10s 20ms/step - loss: 0.0792 - val_loss: 0.0786\n",
            "Epoch 88/100\n",
            "469/469 [==============================] - 10s 22ms/step - loss: 0.0791 - val_loss: 0.0785\n",
            "Epoch 89/100\n",
            "469/469 [==============================] - 10s 20ms/step - loss: 0.0791 - val_loss: 0.0790\n",
            "Epoch 90/100\n",
            "469/469 [==============================] - 10s 22ms/step - loss: 0.0791 - val_loss: 0.0790\n",
            "Epoch 91/100\n",
            "469/469 [==============================] - 10s 20ms/step - loss: 0.0791 - val_loss: 0.0786\n",
            "Epoch 92/100\n",
            "469/469 [==============================] - 10s 20ms/step - loss: 0.0791 - val_loss: 0.0785\n",
            "Epoch 93/100\n",
            "469/469 [==============================] - 10s 22ms/step - loss: 0.0791 - val_loss: 0.0794\n",
            "Epoch 94/100\n",
            "469/469 [==============================] - 10s 20ms/step - loss: 0.0790 - val_loss: 0.0785\n",
            "Epoch 95/100\n",
            "469/469 [==============================] - 10s 20ms/step - loss: 0.0790 - val_loss: 0.0784\n",
            "Epoch 96/100\n",
            "469/469 [==============================] - 10s 22ms/step - loss: 0.0790 - val_loss: 0.0786\n",
            "Epoch 97/100\n",
            "469/469 [==============================] - 10s 20ms/step - loss: 0.0790 - val_loss: 0.0786\n",
            "Epoch 98/100\n",
            "469/469 [==============================] - 10s 20ms/step - loss: 0.0789 - val_loss: 0.0789\n",
            "Epoch 99/100\n",
            "469/469 [==============================] - 10s 22ms/step - loss: 0.0790 - val_loss: 0.0791\n",
            "Epoch 100/100\n",
            "469/469 [==============================] - 10s 20ms/step - loss: 0.0789 - val_loss: 0.0789\n"
          ]
        },
        {
          "output_type": "execute_result",
          "data": {
            "text/plain": [
              "<keras.callbacks.History at 0x7f1b09daa8d0>"
            ]
          },
          "metadata": {},
          "execution_count": 40
        }
      ],
      "source": [
        "autoencoder.fit(\n",
        "    x=noisy_train_data,\n",
        "    y=train_data,\n",
        "    epochs=100,\n",
        "    batch_size=128,\n",
        "    shuffle=True,\n",
        "    validation_data=(noisy_test_data, test_data),\n",
        ")"
      ]
    },
    {
      "cell_type": "markdown",
      "metadata": {
        "id": "L05UVynubrPN"
      },
      "source": [
        "Let's now predict on the noisy data and display the results of our autoencoder.\n",
        "\n",
        "Notice how the autoencoder does an amazing job at removing the noise from the\n",
        "input images."
      ]
    },
    {
      "cell_type": "code",
      "execution_count": 41,
      "metadata": {
        "id": "s76c4doHbrPO",
        "colab": {
          "base_uri": "https://localhost:8080/",
          "height": 248
        },
        "outputId": "ed2f5a10-471e-4302-be5b-d5f86fd42b35"
      },
      "outputs": [
        {
          "output_type": "display_data",
          "data": {
            "text/plain": [
              "<Figure size 1440x288 with 20 Axes>"
            ],
            "image/png": "[encoded data removed]"
          },
          "metadata": {
            "needs_background": "light"
          }
        }
      ],
      "source": [
        "predictions = autoencoder.predict(noisy_test_data)\n",
        "display(noisy_test_data, predictions)"
      ]
    }
  ],
  "metadata": {
    "colab": {
      "collapsed_sections": [],
      "name": "autoencoder-modified",
      "provenance": [],
      "include_colab_link": true
    },
    "kernelspec": {
      "display_name": "Python 3",
      "language": "python",
      "name": "python3"
    },
    "language_info": {
      "codemirror_mode": {
        "name": "ipython",
        "version": 3
      },
      "file_extension": ".py",
      "mimetype": "text/x-python",
      "name": "python",
      "nbconvert_exporter": "python",
      "pygments_lexer": "ipython3",
      "version": "3.7.0"
    },
    "accelerator": "GPU"
  },
  "nbformat": 4,
  "nbformat_minor": 0
}